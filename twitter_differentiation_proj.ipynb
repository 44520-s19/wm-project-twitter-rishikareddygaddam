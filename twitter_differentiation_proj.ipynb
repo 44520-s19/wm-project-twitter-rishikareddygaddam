{
 "cells": [
  {
   "cell_type": "markdown",
   "metadata": {},
   "source": [
    "# Assignment_03 : Twitter Differentiation\n",
    "\n",
    "# Name: Rishika Reddy Gaddam\n"
   ]
  },
  {
   "cell_type": "markdown",
   "metadata": {},
   "source": [
    "## Chosen Twitter Accounts:\n",
    "1. Michelle Obama\n",
    "1. Warren Buffet\n",
    "1. Porsche"
   ]
  },
  {
   "cell_type": "markdown",
   "metadata": {},
   "source": [
    "## Getting data from twitter and loading into pickle files:"
   ]
  },
  {
   "cell_type": "code",
   "execution_count": 1,
   "metadata": {},
   "outputs": [],
   "source": [
    "# Info from twitter!!\n",
    "\n",
    "import tweepy\n",
    "from twitter_keys import consumer_key, consumer_secret, access_token, access_secret\n",
    "import pickle\n",
    "\n",
    "auth = tweepy.OAuthHandler(consumer_key,consumer_secret)\n",
    "auth.set_access_token(access_token,access_secret)\n",
    "\n",
    "api = tweepy.API(auth)\n",
    "\n",
    "#Michelle Obama\n",
    "michelle_tweets = api.user_timeline('MichelleObama')\n",
    "\n",
    "with open('MichelleObama_tweets.pkl', 'wb') as f:\n",
    "    pickle.dump(michelle_tweets,f)\n",
    "    \n",
    "#Warren Buffet\n",
    "\n",
    "warren_tweets = api.user_timeline('WarrenBuffett')\n",
    "\n",
    "with open('WarrenBuffett_tweets.pkl', 'wb') as f:\n",
    "    pickle.dump(warren_tweets,f)\n",
    "    \n",
    "#Porsche\n",
    "porsche_tweets = api.user_timeline('Porsche')\n",
    "\n",
    "with open('Porsche_tweets.pkl', 'wb') as f:\n",
    "    pickle.dump(porsche_tweets,f)\n",
    "    \n",
    "\n",
    "    \n",
    "    "
   ]
  },
  {
   "cell_type": "markdown",
   "metadata": {},
   "source": [
    "## Loading Data:"
   ]
  },
  {
   "cell_type": "code",
   "execution_count": 16,
   "metadata": {},
   "outputs": [],
   "source": [
    "#Loading Michelle Obama\n",
    "with open('MichelleObama_tweets.pkl', 'rb') as f:\n",
    "    michelle_tweets=pickle.load(f)\n",
    "#print(michelle_tweets)\n",
    "#print()\n",
    "\n",
    "#Loading Warren Buffet\n",
    "with open('WarrenBuffett_tweets.pkl', 'rb') as f:\n",
    "    warren_tweets=pickle.load(f)\n",
    "#print(warren_tweets)\n",
    "#print()\n",
    "\n",
    "#Loading Porsche\n",
    "with open('Porsche_tweets.pkl', 'rb') as f:\n",
    "    porsche_tweets=pickle.load(f)\n",
    "#print(porsche_tweets)\n",
    "#print()"
   ]
  },
  {
   "cell_type": "markdown",
   "metadata": {},
   "source": [
    "# Description of Analysis\n",
    "1. Mining data from twitter accounts\n",
    "2. Loading the data\n",
    "3. Calculating the length and average length of Tweet for each Twitter account\n",
    "4. Plotting the results using Bar graph\n",
    "5. Calculating Lexical Diversities and finding the minimum diversities.\n",
    "6. Usage of Devices\n",
    "7. Plotting the devices used for each account using Bar graph\n",
    "8. Calculating minimum and maximum retweet counts for each Twitter account\n",
    "9. Plotting the maximum retweets to derive who has the maximum number of retweets.\n",
    "10. Finding the frequently used words and most 10 common words.\n",
    "11. Calculating the sentiment analysis.\n",
    "12. Plotting sentiment analysis using 3D and 2D."
   ]
  },
  {
   "cell_type": "markdown",
   "metadata": {},
   "source": [
    "##  Length of each tweet:"
   ]
  },
  {
   "cell_type": "code",
   "execution_count": 17,
   "metadata": {},
   "outputs": [
    {
     "name": "stdout",
     "output_type": "stream",
     "text": [
      "MICHELLE OBAMA -  ['We', 'came,', 'we', 'dodged,', 'we', 'slayed.', 'Dodgeball', 'will', 'never', 'be', 'the', 'same—thanks', 'for', 'hosting', '@latelateshow!…', 'https://t.co/HNReHId3pq']\n",
      "Length is : 16\n",
      "MICHELLE OBAMA -  ['Raising', 'strong', 'girls', \"isn't\", 'just', 'about', 'what', 'we', 'do', 'as', 'women—it’s', 'about', 'the', 'example', 'the', 'men', 'in', 'their', 'lives', 'set,', 'too.…', 'https://t.co/8ajIcGQJl4']\n",
      "Length is : 22\n",
      "MICHELLE OBAMA -  ['Pretty', 'grateful', 'for', 'this', 'guy.', 'Happy', 'Father’s', 'Day!', 'https://t.co/VrT3nBKgIt']\n",
      "Length is : 9\n",
      "MICHELLE OBAMA -  ['Today', 'and', 'every', 'day,', 'I’m', 'grateful', 'for', 'every', 'imperfect', 'photograph,', 'for', 'every', 'incomplete', 'memory,', 'and', 'for', 'the', 'many', 'won…', 'https://t.co/Duaj0jmkX4']\n",
      "Length is : 20\n",
      "MICHELLE OBAMA -  ['RT', '@BarackObama:', 'The', '@USWNT', 'is', 'something', 'to', 'smile', 'about.', 'It', 'was', 'great', 'to', 'celebrate', 'with', 'them', 'back', 'in', '2015', 'and', \"I'm\", 'excited', 'to', 'root', 'them', 'on', 'i…']\n",
      "Length is : 27\n",
      "MICHELLE OBAMA -  ['My', 'girlfriends', 'are', 'always', 'there', 'to', 'lift', 'me', 'up', 'and', 'affirm', 'who', 'I', 'am.', 'On', '#BestFriendsDay,', 'I', 'want', 'each', 'of', 'them', 'to', 'know…', 'https://t.co/LwLxkAdqx7']\n",
      "Length is : 24\n",
      "MICHELLE OBAMA -  ['There’s', 'something', 'unexplainable', 'that', 'happens', 'on', '@SesameStreet,', 'some', 'unique', 'alchemy', 'of', 'aspiration', 'and', 'goodness', 'that…', 'https://t.co/68XmcZuxUE']\n",
      "Length is : 16\n",
      "MICHELLE OBAMA -  ['From', 'an', 'early', 'age,', 'my', 'mom', 'saw', 'that', 'I', 'had', 'a', 'flame', 'inside', 'me', 'and', 'she', 'never', 'tempered', 'it.', 'Mom,', 'thank', 'you', 'for', 'kindling', 't…', 'https://t.co/uYJLeeuwX5']\n",
      "Length is : 26\n",
      "MICHELLE OBAMA -  ['Today', 'I', 'joined', 'students', '@SpelmanCollege,', '@CAU,', 'and', '@Morehouse', 'to', 'talk', 'about', 'the', 'importance', 'of', 'celebrating', 'our', 'stori…', 'https://t.co/YYjgFEgSK4']\n",
      "Length is : 18\n",
      "MICHELLE OBAMA -  ['RT', '@BetterMakeRoom:', 'On', 'May', '1,', 'we', 'celebrated', '#CollegeSigningDay', 'with', '@UofCalifornia', 'and', 'over', '10,000', 'college-bound', 'students', 'at', '@UCLA.', 'Congr…']\n",
      "Length is : 18\n",
      "MICHELLE OBAMA -  ['Congratulations,', 'Meghan', 'and', 'Harry!', 'Barack', 'and', 'I', 'are', 'so', 'thrilled', 'for', 'both', 'of', 'you', 'and', \"can't\", 'wait', 'to', 'meet', 'him.…', 'https://t.co/T42NsRIAMy']\n",
      "Length is : 21\n",
      "MICHELLE OBAMA -  ['RT', '@compton_college:', 'When', 'in', 'Los', 'Angeles,', 'of', 'course', 'you', 'represent', 'Compton!', 'Former', 'first', 'lady', 'Michelle', 'Obama', 'sports', 'a', '@Compton_College', 'sweat…']\n",
      "Length is : 20\n",
      "MICHELLE OBAMA -  ['RT', '@talaashe:', 'Such', 'an', 'honor', 'to', 'be', 'a', 'part', 'of', 'this', 'amazing', 'day', 'with', 'these', 'future', 'young', 'leaders.', '👏🏽👏🏽👏🏽', '@MichelleObama,', '@ReachHigher', '&amp;', '@Better…']\n",
      "Length is : 23\n",
      "MICHELLE OBAMA -  ['RT', '@300CollegeClub:', 'Our', 'Spartans', 'are', 'going', 'to', 'college!!!', 'Everyone', 'got', 'something', 'to', 'make', 'their', 'transition', 'in', 'to', 'their', 'next', 'step', 'a', 'little', 'eas…']\n",
      "Length is : 23\n",
      "MICHELLE OBAMA -  ['RT', '@StocktonScholar:', '#StocktonScholars', 'rolling', 'deep', 'at', 'the', '@BetterMakeRoom', 'College', 'Signing', 'Day', 'event', 'at', '@UCLA', '🤩', 'Thank', 'you', '@MichelleObama', 'fo…']\n",
      "Length is : 19\n",
      "MICHELLE OBAMA -  ['RT', '@RCOE:', 'It’s', 'here!', '#CollegeSigningDay', '@UCLA', 'w/@MichelleObama.', 'Kiayra', '@RUSDLink', '@JWNorthHS', 'listening', 'to', 'Obama’s', 'message', 'as', 'we', 'approach', 'and…']\n",
      "Length is : 18\n",
      "MICHELLE OBAMA -  ['I', 'am', 'so', 'proud', 'of', 'each', 'and', 'every', 'student', 'out', 'there', 'who’s', 'celebrating', '#CollegeSigningDay.', 'I', 'know', 'how', 'hard', \"you've\", 'work…', 'https://t.co/SC0QnuuHhz']\n",
      "Length is : 21\n",
      "MICHELLE OBAMA -  ['RT', '@johnlegend:', 'My', 'academic', 'career', 'at', 'UPenn', 'hugely', 'shaped', 'the', 'person', 'I', 'am', 'today.', \"I'm\", 'proud', 'to', 'join', '@MichelleObama', 'today', 'for', '#CollegeSigning…']\n",
      "Length is : 22\n",
      "MICHELLE OBAMA -  ['RT', '@LeaMichele:', 'Joining', 'forces', 'with', 'the', 'amazing', '@MichelleObama', 'today', 'to', 'help', 'celebrate', 'nearly', '9000', 'students', 'committing', 'to', 'complete', 'their', 'ed…']\n",
      "Length is : 20\n",
      "MICHELLE OBAMA -  ['RT', '@BarackObama:', 'Happy', '#CollegeSigningDay,', 'everybody!', \"I'm\", 'proud', 'of', 'every', 'student', 'out', 'there', \"who's\", 'taking', 'the', 'next', 'step', 'in', 'their', 'education.', 'I…']\n",
      "Length is : 21\n",
      "*********************************************************************************************************\n",
      "\n",
      "WARREN BUFFET ['@BillGates', '25', 'years', 'of', 'learning', 'and', 'fun', 'and', 'more', 'to', 'come.', 'Friendships', 'are', 'what', 'count.']\n",
      "Length is : 15\n",
      "WARREN BUFFET ['Join', 'me', 'on', 'Saturday', 'at', '10a', 'ET', 'for', 'the', 'first', 'ever', '#BRKLiveStream', 'on', '@YahooFinance', 'https://t.co/u2wsogF7zn', 'https://t.co/RPKqhniVTD']\n",
      "Length is : 16\n",
      "WARREN BUFFET ['Better', 'than', 'raising', 'the', 'minimum', 'wage,', \"let's\", 'help', 'Americans', 'with', 'an', 'expansion', 'of', 'the', 'Earned', 'Income', 'Tax', 'Credit:', 'http://t.co/XCLbi7VWfG']\n",
      "Length is : 19\n",
      "WARREN BUFFET ['Mary', 'Rhinehart,', 'a', 'Berkshire', 'CEO,', 'is', 'successfully', 'running', 'a', '$2.5B', 'company', 'in', 'a', 'male-dominated', 'field', '#LeanInTogether', 'http://t.co/MNgeXvee18']\n",
      "Length is : 17\n",
      "WARREN BUFFET ['Two', 'personal', 'investments', 'and', 'what', 'you', 'can', 'learn', 'from', 'them:', 'http://t.co/vwWfFvmTVb']\n",
      "Length is : 11\n",
      "WARREN BUFFET ['Not', 'even', 'the', 'Oracle', 'knows', 'what', 'will', 'happen', 'tonight.', '#waltsuccessor', 'http://t.co/EM8gIzZib5']\n",
      "Length is : 11\n",
      "WARREN BUFFET ['Hello', '@Hillaryclinton!', 'Happy', 'to', 'welcome', 'one', 'of', 'my', 'favorite', 'women', 'in', 'the', 'world', 'to', 'twitter.', '#45']\n",
      "Length is : 16\n",
      "WARREN BUFFET ['Read', 'my', 'new', 'essay', 'on', 'why', 'women', 'are', 'key', 'to', \"America's\", 'prosperity:', 'http://t.co/sGCZoC3Lbm.']\n",
      "Length is : 13\n",
      "WARREN BUFFET ['Warren', 'is', 'in', 'the', 'house.']\n",
      "Length is : 5\n",
      "*********************************************************************************************************\n",
      "\n",
      "PORSCHE ['@RobertoAAguilar', 'We', 'are', 'very', 'sorry', 'to', 'hear', 'about', 'your', 'Porsche', 'experience', 'and', 'would', 'like', 'to', 'look', 'into', 'it', 'further', 'on…', 'https://t.co/fQYQcUwQ9c']\n",
      "Length is : 21\n",
      "PORSCHE ['@DTMAIN2', '@GMC', 'Thank', 'you', 'for', 'reaching', 'out', 'to', 'Porsche', 'Cars', 'North', 'America.', 'Please', 'DM', 'us', 'your', 'full', 'name,', 'VIN,', 'contact', 'i…', 'https://t.co/WBpPI2sO3I']\n",
      "Length is : 22\n",
      "PORSCHE ['@_CozyChris', 'Thank', 'you', 'for', 'your', 'inquiry.', 'You', 'can', 'arrange', 'a', 'visit', 'to', 'the', 'Porsche', 'Customer', 'Experience', 'Center', 'in', 'Atlant…', 'https://t.co/IT7ffMYBlg']\n",
      "Length is : 20\n",
      "PORSCHE ['@ChrisMolloy33', 'We', 'appreciate', 'your', 'interest', 'in', 'the', 'all-new', 'Porsche', 'Taycan!', 'The', 'Taycan', 'will', 'seat', '4', 'occupants', 'total,…', 'https://t.co/9y6m2fABJ1']\n",
      "Length is : 18\n",
      "PORSCHE ['@ChrisMolloy33', 'Thank', 'you', 'for', 'your', 'inquiry.', 'Because', 'the', 'Taycan', 'model', 'has', 'not', 'been', 'officially', 'revealed', 'or', 'announced,…', 'https://t.co/easZqKHVwL']\n",
      "Length is : 18\n",
      "PORSCHE ['@maXes_MB', 'We', 'regret', 'to', 'learn', 'of', 'the', 'circumstances', 'that', 'prompted', 'you', 'to', 'contact', 'Porsche', 'Cars', 'North', 'America.', 'Please', 'D…', 'https://t.co/qr2RNQwVLW']\n",
      "Length is : 20\n",
      "PORSCHE ['@howdoyoudokenn', 'Thank', 'you', 'for', 'contacting', 'Porsche', 'Cars', 'North', 'America.', 'Please', 'DM', 'us', 'your', 'full', 'name,', 'VIN,', 'contact', 'info…', 'https://t.co/aSG0V6j1H6']\n",
      "Length is : 19\n",
      "PORSCHE ['@HiImDolphy', 'Thank', 'you', 'for', 'your', 'interest', 'in', 'working', 'for', 'Porsche.', 'You', 'can', 'find', 'more', 'information', 'about', 'career', 'opportun…', 'https://t.co/4FtCHgHAmN']\n",
      "Length is : 19\n",
      "PORSCHE ['@toddmr', '@PECATL', 'We', 'sincerely', 'regret', 'to', 'learn', 'of', 'your', 'dissatisfaction.', 'If', 'we', 'can', 'be', 'of', 'any', 'assistance,', 'please', 'feel', 'f…', 'https://t.co/Q4dfPDvNHl']\n",
      "Length is : 21\n",
      "PORSCHE ['@mwbathurst', '@FirstTake', 'We', 'are', 'delighted', 'to', 'learn', 'of', 'your', 'interest', 'in', 'the', 'Macan', 'but', 'regret', 'the', 'experience', 'that', 'promp…', 'https://t.co/ahmObgK4WO']\n",
      "Length is : 20\n",
      "PORSCHE ['@THEREALSUNNE', '@PorscheNewsroom', 'Thank', 'you', 'for', 'reaching', 'out.', 'Upon', 'review', 'of', 'our', 'records,', 'we', 'see', 'that', 'you', 'are', 'currentl…', 'https://t.co/B0JZFyydo0']\n",
      "Length is : 19\n",
      "PORSCHE ['@jingkrub', '@PorscheCanada', '@ConsumerProBC', '@BBB_BC', 'We', 'sincerely', 'regret', 'to', 'learn', 'of', 'your', 'dissatisfaction', 'and', 'Porsche', 'ex…', 'https://t.co/5eNzRnk2wg']\n",
      "Length is : 16\n",
      "PORSCHE ['@AlexaStauske', 'We', 'regret', 'to', 'learn', 'of', 'this', 'inconvenience.', 'If', 'you', 'have', 'not', 'already,', 'we', 'recommend', 'that', 'you', 'contact', 'Pors…', 'https://t.co/rDZU0x6JUO']\n",
      "Length is : 20\n",
      "PORSCHE ['@natekeag', 'We', 'appreciate', 'you', 'reaching', 'out', 'but', 'sincerely', 'regret', 'to', 'learn', 'of', 'the', 'concerns', 'with', 'your', 'Panamera.', 'Please', 'D…', 'https://t.co/sQrniUcucJ']\n",
      "Length is : 20\n",
      "PORSCHE ['@ThePixelGirl', 'We', 'sincerely', 'regret', 'to', 'learn', 'of', 'the', 'frustration', 'that', 'prompted', 'your', 'contact.', 'Either', 'the', 'Service', 'and', 'Pa…', 'https://t.co/AWiVZ7QFqf']\n",
      "Length is : 19\n",
      "PORSCHE ['@RSLozworth', 'Thank', 'you', 'for', 'contacting', 'Porsche', 'Cars', 'North', 'America!', 'We', 'must', 'refer', 'you', 'to', 'the', 'appropriate', 'region', 'for', 'as…', 'https://t.co/qy0aOYE634']\n",
      "Length is : 20\n",
      "PORSCHE ['And', 'again!', 'The', 'Porsche', '911', 'GT2', 'RS', 'has', 'set', 'a', 'new', 'production', 'car', 'lap', 'record', 'at', 'Road', 'America,', 'completing', 'the', '4.048', 'mil…', 'https://t.co/S3pmFOwSas']\n",
      "Length is : 23\n",
      "PORSCHE ['@HotZVideos', 'Thank', 'you', 'for', 'reaching', 'out', 'to', 'Porsche', 'Cars', 'North', 'America,', 'although', 'we', 'regret', 'to', 'learn', 'of', 'the', 'unfortunat…', 'https://t.co/Tmo8IwNsRB']\n",
      "Length is : 20\n",
      "PORSCHE ['@AcuraTLGTLM', 'Thank', 'you', 'for', 'bringing', 'this', 'matter', 'to', 'our', 'attention.', 'We', 'have', 'passed', 'your', 'feedback', 'along', 'to', 'the', 'appropr…', 'https://t.co/kmBzxTxLMG']\n",
      "Length is : 20\n",
      "PORSCHE ['@hananalaali', 'Thank', 'you', 'for', 'your', 'reply.', 'According', 'to', 'the', 'information', 'provided,', 'your', 'vehicle', 'is', 'not', 'manufactured', 'for…', 'https://t.co/YiA6aGMc1D']\n",
      "Length is : 18\n",
      "*********************************************************************************************************\n",
      "\n"
     ]
    }
   ],
   "source": [
    "#Length of each tweet\n",
    "\n",
    "for tweet in michelle_tweets:\n",
    "    tokens=tweet.text.split()\n",
    "    print(\"MICHELLE OBAMA - \",tokens)\n",
    "    print(\"Length is :\",len(tokens))\n",
    "print('*********************************************************************************************************')\n",
    "print()\n",
    "    \n",
    "for tweet in warren_tweets:\n",
    "    tokens=tweet.text.split()\n",
    "    print(\"WARREN BUFFET\",tokens)\n",
    "    print(\"Length is :\",len(tokens))\n",
    "print('*********************************************************************************************************')\n",
    "print()\n",
    "    \n",
    "for tweet in porsche_tweets:\n",
    "    tokens=tweet.text.split()\n",
    "    print(\"PORSCHE\",tokens)\n",
    "    print(\"Length is :\",len(tokens))\n",
    "print('*********************************************************************************************************')\n",
    "print()\n",
    "\n"
   ]
  },
  {
   "cell_type": "markdown",
   "metadata": {},
   "source": [
    "## Average length of each tweet:"
   ]
  },
  {
   "cell_type": "code",
   "execution_count": 4,
   "metadata": {},
   "outputs": [
    {
     "name": "stdout",
     "output_type": "stream",
     "text": [
      "Michelle Obama : \n",
      "sum of all tokens from all tweets : 404\n",
      "\n",
      "Average length of tweet would possibly be - Michelle Obama :  20.2\n",
      "************************************************************************\n",
      "Warren Buffet : \n",
      "sum of all tokens from all tweets :  123\n",
      "\n",
      "Average length of tweet would possibly be - Warren Buffet :  13.666666666666666\n",
      "************************************************************************\n",
      "Porsche : \n",
      "sum of all tokens from all tweets :  393\n",
      "\n",
      "Average length of tweet would possibly be - Porsche :  19.65\n",
      "************************************************************************\n"
     ]
    }
   ],
   "source": [
    "from collections import Counter\n",
    "\n",
    "print(\"Michelle Obama : \")\n",
    "sum=0\n",
    "for tweet in michelle_tweets:\n",
    "    tokens = tweet.text.lower().split()\n",
    "    #print(\"Length token is \",len(tokens))\n",
    "    length = len(tokens)\n",
    "    sum=sum+length\n",
    "    avg1=sum/len(michelle_tweets)\n",
    "print('sum of all tokens from all tweets :',sum)\n",
    "print(\"\\nAverage length of tweet would possibly be - Michelle Obama : \", avg1)\n",
    "print(\"************************************************************************\")\n",
    "\n",
    "print(\"Warren Buffet : \")\n",
    "sum=0\n",
    "for tweet in warren_tweets:\n",
    "    tokens = tweet.text.lower().split()\n",
    "    #print(\"Length token is \",len(tokens))\n",
    "    length = len(tokens)\n",
    "    sum=sum+length\n",
    "    avg2=sum/len(warren_tweets)\n",
    "print('sum of all tokens from all tweets : ',sum)\n",
    "print(\"\\nAverage length of tweet would possibly be - Warren Buffet : \", avg2)\n",
    "print(\"************************************************************************\")\n",
    "\n",
    "print(\"Porsche : \")\n",
    "sum=0\n",
    "for tweet in porsche_tweets:\n",
    "    tokens = tweet.text.lower().split()\n",
    "    #print(\"Length token is \",len(tokens))\n",
    "    length = len(tokens)\n",
    "    sum=sum+length\n",
    "    avg3=sum/len(porsche_tweets)\n",
    "print('sum of all tokens from all tweets : ',sum)\n",
    "print(\"\\nAverage length of tweet would possibly be - Porsche : \", avg3)\n",
    "print(\"************************************************************************\")\n",
    "\n",
    "   "
   ]
  },
  {
   "cell_type": "markdown",
   "metadata": {},
   "source": [
    "## Plotting average length of tweet for each account:"
   ]
  },
  {
   "cell_type": "code",
   "execution_count": 20,
   "metadata": {},
   "outputs": [
    {
     "name": "stdout",
     "output_type": "stream",
     "text": [
      "[20.2, 13.666666666666666, 19.65]\n"
     ]
    },
    {
     "data": {
      "image/png": "[encoded data removed]",
      "text/plain": [
       "<Figure size 432x288 with 1 Axes>"
      ]
     },
     "metadata": {
      "needs_background": "light"
     },
     "output_type": "display_data"
    }
   ],
   "source": [
    "import matplotlib.pyplot as plt\n",
    "heights = [avg1,avg2,avg3]\n",
    "print(heights)\n",
    "\n",
    "\n",
    "left=[1,2,3]\n",
    "\n",
    "tick_label=['Michelle Obama', 'Warren Buffet', 'Porsche']\n",
    "\n",
    "plt.bar(left,heights,tick_label=tick_label, width=0.4, color=['green','red','blue'])\n",
    "\n",
    "plt.xlabel('*Individual accounts*')\n",
    "\n",
    "plt.ylabel('* Average *')\n",
    "plt.title('Average length of tweet for an account')\n",
    "\n",
    "\n",
    "plt.show()"
   ]
  },
  {
   "cell_type": "markdown",
   "metadata": {},
   "source": [
    "## Lexical Diversity:"
   ]
  },
  {
   "cell_type": "code",
   "execution_count": 6,
   "metadata": {},
   "outputs": [
    {
     "name": "stdout",
     "output_type": "stream",
     "text": [
      "0.9444444444444444\n"
     ]
    }
   ],
   "source": [
    "# defining a function for lexical diversity\n",
    "\n",
    "def lexical_diversity(text):\n",
    "    tokens = text.lower().split()\n",
    "    return len(set(tokens))/len(tokens)\n",
    "\n",
    "print(lexical_diversity(tweet.text))"
   ]
  },
  {
   "cell_type": "code",
   "execution_count": 7,
   "metadata": {
    "scrolled": false
   },
   "outputs": [
    {
     "name": "stdout",
     "output_type": "stream",
     "text": [
      "Diversities for michelle -  [0.875, 0.9090909090909091, 1.0, 0.75, 0.8888888888888888, 0.9166666666666666, 1.0, 1.0, 1.0, 1.0, 0.9047619047619048, 1.0, 1.0, 0.8695652173913043, 0.9473684210526315, 1.0, 0.9523809523809523, 1.0, 0.95, 1.0]\n",
      "Minimum diversity - Michelle:  0.75\n",
      "\n",
      "Diversities for Warren -  [0.9333333333333333, 0.9375, 0.9473684210526315, 0.8823529411764706, 1.0, 1.0, 0.9375, 1.0, 1.0]\n",
      "Minimum diversity - Warren:  0.8823529411764706\n",
      "\n",
      "Diversities for Porsche -  [0.9523809523809523, 1.0, 0.95, 0.9444444444444444, 1.0, 0.95, 1.0, 0.8947368421052632, 0.9047619047619048, 0.95, 0.9473684210526315, 1.0, 0.9, 1.0, 0.9473684210526315, 0.9, 0.9565217391304348, 0.95, 0.95, 0.9444444444444444]\n",
      "Minimum diversity - Porsche:  0.8947368421052632\n"
     ]
    }
   ],
   "source": [
    "# calculating lexical diversitities for each account\n",
    "\n",
    "michelle_diversities = []\n",
    "for tweet in michelle_tweets:\n",
    "    michelle_diversities.append(lexical_diversity(tweet.text))\n",
    "print(\"Diversities for michelle - \",michelle_diversities)\n",
    "print('Minimum diversity - Michelle: ',min(michelle_diversities))\n",
    "print()\n",
    "\n",
    "warren_diversities = []\n",
    "for tweet in warren_tweets:\n",
    "    warren_diversities.append(lexical_diversity(tweet.text))\n",
    "print(\"Diversities for Warren - \",warren_diversities)\n",
    "print('Minimum diversity - Warren: ',min(warren_diversities))\n",
    "print()\n",
    "\n",
    "porsche_diversities = []\n",
    "for tweet in porsche_tweets:\n",
    "    porsche_diversities.append(lexical_diversity(tweet.text))\n",
    "print(\"Diversities for Porsche - \",porsche_diversities)\n",
    "print('Minimum diversity - Porsche: ',min(porsche_diversities))"
   ]
  },
  {
   "cell_type": "markdown",
   "metadata": {},
   "source": [
    "## Usage of Devices:"
   ]
  },
  {
   "cell_type": "code",
   "execution_count": 8,
   "metadata": {},
   "outputs": [
    {
     "name": "stdout",
     "output_type": "stream",
     "text": [
      "Devices for Michelle :  ['Twitter for iPhone', 'Twitter Web Client', 'Twitter for iPhone', 'Twitter for iPhone', 'Twitter for iPhone', 'Twitter Web Client', 'Twitter for iPhone', 'Twitter Web Client', 'Twitter Web Client', 'Twitter for iPhone', 'Twitter Web Client', 'Twitter for iPhone', 'Twitter Web Client', 'Twitter Web Client', 'Twitter Web Client', 'Twitter Web Client', 'Twitter Web Client', 'Twitter Web Client', 'Twitter Web Client', 'Twitter Web Client']\n",
      "\n",
      "Devices for Warren :  ['Twitter Web Client', 'Twitter Web Client', 'Twitter Web Client', 'Twitter Web Client', 'Twitter Web Client', 'Twitter Web Client', 'Twitter Web Client', 'Twitter for iPad', 'Twitter for iPad']\n",
      "\n",
      "Devices for Porsche :  ['Facelift Cloud', 'Facelift Cloud', 'Facelift Cloud', 'Facelift Cloud', 'Facelift Cloud', 'Facelift Cloud', 'Facelift Cloud', 'Facelift Cloud', 'Facelift Cloud', 'Facelift Cloud', 'Facelift Cloud', 'Facelift Cloud', 'Facelift Cloud', 'Facelift Cloud', 'Facelift Cloud', 'Facelift Cloud', 'Twitter Web Client', 'Facelift Cloud', 'Facelift Cloud', 'Facelift Cloud']\n",
      "\n",
      "# of Twitter Web Client - Michelle -  13\n",
      "# of Twitter for iPhone - Michelle -  7\n",
      "# of Twitter for iPad - Michelle -  0\n",
      "# of Facelift Cloud - Michelle -  0\n",
      "\n",
      "# of Twitter Web Client - Warren -  7\n",
      "# of Twitter for iPhone - Warren -  0\n",
      "# of Twitter for iPad - Warren -  2\n",
      "# of Facelift Cloud - Warren -  0\n",
      "\n",
      "# of Twitter Web Client - Porsche -  1\n",
      "# of Twitter for iPhone - Porsche -  0\n",
      "# of Twitter for iPad - Porsche -  0\n",
      "# of Facelift Cloud - Porsche -  19\n"
     ]
    }
   ],
   "source": [
    "#devices used - Michelle Obama\n",
    "\n",
    "michelle_devices = []\n",
    "for tweet in michelle_tweets:\n",
    "    michelle_devices.append(tweet.source)\n",
    "print('Devices for Michelle : ',michelle_devices)\n",
    "print()\n",
    "\n",
    "#devices used - Warren Buffet\n",
    "\n",
    "warren_devices = []\n",
    "for tweet in warren_tweets:\n",
    "    warren_devices.append(tweet.source)\n",
    "print('Devices for Warren : ',warren_devices)\n",
    "print()\n",
    "\n",
    "#devices used - Porsche\n",
    "\n",
    "porsche_devices = []\n",
    "for tweet in porsche_tweets:\n",
    "    porsche_devices.append(tweet.source)\n",
    "print('Devices for Porsche : ',porsche_devices)\n",
    "print()\n",
    "\n",
    "count_web_m =0\n",
    "count_iph_m=0\n",
    "count_ipad_m=0\n",
    "count_facelift_m=0\n",
    "\n",
    "for t in michelle_tweets:\n",
    "    if t.source=='Twitter Web Client':\n",
    "        count_web_m = count_web_m+1\n",
    "    elif t.source=='Twitter for iPhone':\n",
    "        count_iph_m = count_iph_m+1\n",
    "    elif t.source=='Twitter for iPad':\n",
    "        count_ipad_m=count_ipad_m+1\n",
    "    elif t.source=='Facelift Cloud':\n",
    "        count_facelift=count_facelift+1\n",
    "print('# of Twitter Web Client - Michelle - ',count_web_m)\n",
    "print('# of Twitter for iPhone - Michelle - ',count_iph_m)\n",
    "print('# of Twitter for iPad - Michelle - ',count_ipad_m)\n",
    "print('# of Facelift Cloud - Michelle - ',count_facelift_m)\n",
    "print()\n",
    "\n",
    "count_web_w =0\n",
    "count_iph_w=0\n",
    "count_ipad_w=0\n",
    "count_facelift_w=0\n",
    "\n",
    "for t in warren_tweets:\n",
    "    if t.source=='Twitter Web Client':\n",
    "        count_web_w = count_web_w+1\n",
    "    elif t.source=='Twitter for iPhone':\n",
    "        count_iph_w = count_iph_w+1\n",
    "    elif t.source=='Twitter for iPad':\n",
    "        count_ipad_w=count_ipad_w+1\n",
    "    elif t.source=='Facelift Cloud':\n",
    "        count_facelift_w=count_facelift_w+1\n",
    "print('# of Twitter Web Client - Warren - ',count_web_w)\n",
    "print('# of Twitter for iPhone - Warren - ',count_iph_w)\n",
    "print('# of Twitter for iPad - Warren - ',count_ipad_w)\n",
    "print('# of Facelift Cloud - Warren - ',count_facelift_w)\n",
    "print()\n",
    "\n",
    "count_web_p =0\n",
    "count_iph_p=0\n",
    "count_ipad_p=0\n",
    "count_facelift_p=0\n",
    "\n",
    "for t in porsche_tweets:\n",
    "    if t.source=='Twitter Web Client':\n",
    "        count_web_p = count_web_p+1\n",
    "    elif t.source=='Twitter for iPhone':\n",
    "        count_iph_p = count_iph_p+1\n",
    "    elif t.source=='Twitter for iPad':\n",
    "        count_ipad_p=count_ipad_p+1\n",
    "    elif t.source=='Facelift Cloud':\n",
    "        count_facelift_p=count_facelift_p+1\n",
    "print('# of Twitter Web Client - Porsche - ',count_web_p)\n",
    "print('# of Twitter for iPhone - Porsche - ',count_iph_p)\n",
    "print('# of Twitter for iPad - Porsche - ',count_ipad_p)\n",
    "print('# of Facelift Cloud - Porsche - ',count_facelift_p)\n",
    "\n"
   ]
  },
  {
   "cell_type": "markdown",
   "metadata": {},
   "source": [
    "## Plotting usage of devices using bar graphs for each account "
   ]
  },
  {
   "cell_type": "code",
   "execution_count": 9,
   "metadata": {
    "scrolled": false
   },
   "outputs": [
    {
     "name": "stdout",
     "output_type": "stream",
     "text": [
      "[13, 7, 0, 0]\n"
     ]
    },
    {
     "data": {
      "image/png": "[encoded data removed]",
      "text/plain": [
       "<Figure size 432x288 with 1 Axes>"
      ]
     },
     "metadata": {
      "needs_background": "light"
     },
     "output_type": "display_data"
    },
    {
     "name": "stdout",
     "output_type": "stream",
     "text": [
      "[7, 0, 2, 0]\n"
     ]
    },
    {
     "data": {
      "image/png": "[encoded data removed]",
      "text/plain": [
       "<Figure size 432x288 with 1 Axes>"
      ]
     },
     "metadata": {
      "needs_background": "light"
     },
     "output_type": "display_data"
    },
    {
     "name": "stdout",
     "output_type": "stream",
     "text": [
      "[1, 0, 0, 19]\n"
     ]
    },
    {
     "data": {
      "image/png": "[encoded data removed]",
      "text/plain": [
       "<Figure size 432x288 with 1 Axes>"
      ]
     },
     "metadata": {
      "needs_background": "light"
     },
     "output_type": "display_data"
    }
   ],
   "source": [
    "# As the text for x-label is getting collided with one other, I am using different bar graphs for every account.\n",
    "\n",
    "import matplotlib.pyplot as plt\n",
    "heights = [count_web_m,count_iph_m,count_ipad_m,count_facelift_m]\n",
    "print(heights)\n",
    "\n",
    "\n",
    "left=[1,2,3,4]\n",
    "\n",
    "tick_label=['web client','iPhone', 'iPad','facelift cloud']\n",
    "\n",
    "plt.bar(left,heights,tick_label=tick_label, width=0.2, color=['green'])\n",
    "\n",
    "plt.xlabel('*Devices used for Michelle*')\n",
    "\n",
    "plt.ylabel('* Number of tweet from respective devices *')\n",
    "plt.title('Graph of devices used to tweet in Michelle Account')\n",
    "\n",
    "\n",
    "plt.show()\n",
    "\n",
    "# Warren Buffet \n",
    "\n",
    "heights = [count_web_w,count_iph_w,count_ipad_w,count_facelift_w]\n",
    "print(heights)\n",
    "\n",
    "\n",
    "left=[1,2,3,4]\n",
    "\n",
    "tick_label=['web client','iPhone', 'iPad','facelift cloud']\n",
    "\n",
    "plt.bar(left,heights,tick_label=tick_label, width=0.2, color=['blue'])\n",
    "\n",
    "plt.xlabel('*Devices used for Warren*')\n",
    "\n",
    "plt.ylabel('* Number of tweet from respective devices *')\n",
    "plt.title('Graph of devices used to tweet in Warren Account')\n",
    "plt.show()\n",
    "\n",
    "# Porsche\n",
    "\n",
    "heights = [count_web_p,count_iph_p,count_ipad_p,count_facelift_p]\n",
    "print(heights)\n",
    "\n",
    "\n",
    "left=[1,2,3,4]\n",
    "\n",
    "tick_label=['web client','iPhone', 'iPad','facelift cloud']\n",
    "\n",
    "plt.bar(left,heights,tick_label=tick_label, width=0.2, color=['red'])\n",
    "\n",
    "plt.xlabel('*Devices used for Porsche*')\n",
    "\n",
    "plt.ylabel('* Number of tweet from respective devices *')\n",
    "plt.title('Graph of devices used to tweet in Porsche Account')\n",
    "plt.show()\n",
    "\n"
   ]
  },
  {
   "cell_type": "markdown",
   "metadata": {},
   "source": [
    "## Calculating min and max retweet counts :"
   ]
  },
  {
   "cell_type": "code",
   "execution_count": 10,
   "metadata": {},
   "outputs": [
    {
     "name": "stdout",
     "output_type": "stream",
     "text": [
      "[1846, 2107, 31296, 6631, 12271, 6806, 5943, 17850, 1762, 252, 14026, 493, 141, 94, 119, 102, 1605, 392, 448, 14524]\n",
      "max retweets for MICHELLE are : 31296\n",
      "min retweets for MICHELLE are : 94\n",
      "\n",
      "[1846, 2107, 31296, 6631, 12271, 6806, 5943, 17850, 1762, 252, 14026, 493, 141, 94, 119, 102, 1605, 392, 448, 14524]\n",
      "max retweets for WARREN are : 39727\n",
      "min retweets for WARREN are : 1108\n",
      "\n",
      "[1846, 2107, 31296, 6631, 12271, 6806, 5943, 17850, 1762, 252, 14026, 493, 141, 94, 119, 102, 1605, 392, 448, 14524]\n",
      "max retweets for PORSCHE are : 290\n",
      "min retweets for PORSCHE are : 0\n"
     ]
    }
   ],
   "source": [
    "# Retweet Count\n",
    "retweet_m=[]\n",
    "for tweet in michelle_tweets:\n",
    "    retweet_m.append(tweet.retweet_count)\n",
    "print(retweet_m)\n",
    "print(\"max retweets for MICHELLE are :\", max(retweet_m))\n",
    "print(\"min retweets for MICHELLE are :\", min(retweet_m))\n",
    "print()\n",
    "\n",
    "retweet_w=[]\n",
    "for tweet in warren_tweets:\n",
    "    retweet_w.append(tweet.retweet_count)\n",
    "print(retweet_m)\n",
    "print(\"max retweets for WARREN are :\", max(retweet_w))\n",
    "print(\"min retweets for WARREN are :\", min(retweet_w))\n",
    "print()\n",
    "\n",
    "retweet_p=[]\n",
    "for tweet in porsche_tweets:\n",
    "    retweet_p.append(tweet.retweet_count)\n",
    "print(retweet_m)\n",
    "print(\"max retweets for PORSCHE are :\", max(retweet_p))\n",
    "print(\"min retweets for PORSCHE are :\", min(retweet_p))\n",
    "    "
   ]
  },
  {
   "cell_type": "markdown",
   "metadata": {},
   "source": [
    "## Plotting maximum retweets:"
   ]
  },
  {
   "cell_type": "code",
   "execution_count": 11,
   "metadata": {},
   "outputs": [
    {
     "name": "stdout",
     "output_type": "stream",
     "text": [
      "[31296, 39727, 290]\n"
     ]
    },
    {
     "data": {
      "image/png": "[encoded data removed]",
      "text/plain": [
       "<Figure size 432x288 with 1 Axes>"
      ]
     },
     "metadata": {
      "needs_background": "light"
     },
     "output_type": "display_data"
    }
   ],
   "source": [
    "import matplotlib.pyplot as plt\n",
    "heights = [max(retweet_m),max(retweet_w),max(retweet_p)]\n",
    "print(heights)\n",
    "\n",
    "\n",
    "left=[1,2,3]\n",
    "\n",
    "tick_label=['Michelle Obama','Warren Buffet','Porsche']\n",
    "\n",
    "plt.bar(left,heights,tick_label=tick_label, width=0.5, color=['green','red','blue'])\n",
    "\n",
    "plt.xlabel('* Accounts *')\n",
    "\n",
    "plt.ylabel('*  max values *')\n",
    "plt.title('Max retweet count for every account')\n",
    "\n",
    "\n",
    "plt.show()"
   ]
  },
  {
   "cell_type": "markdown",
   "metadata": {},
   "source": [
    "## Frequency of words:"
   ]
  },
  {
   "cell_type": "code",
   "execution_count": 19,
   "metadata": {
    "scrolled": false
   },
   "outputs": [
    {
     "name": "stdout",
     "output_type": "stream",
     "text": [
      "Most common words for MICHELLE OBAMA: \n",
      " [('we', 3), ('came,', 1), ('dodged,', 1), ('slayed.', 1), ('dodgeball', 1), ('will', 1), ('never', 1), ('be', 1), ('the', 1), ('same—thanks', 1)]\n",
      "**************************************************\n",
      "Most common words for MICHELLE OBAMA: \n",
      " [('about', 2), ('the', 2), ('raising', 1), ('strong', 1), ('girls', 1), (\"isn't\", 1), ('just', 1), ('what', 1), ('we', 1), ('do', 1)]\n",
      "**************************************************\n",
      "Most common words for MICHELLE OBAMA: \n",
      " [('pretty', 1), ('grateful', 1), ('for', 1), ('this', 1), ('guy.', 1), ('happy', 1), ('father’s', 1), ('day!', 1), ('https://t.co/vrt3nbkgit', 1)]\n",
      "**************************************************\n",
      "Most common words for MICHELLE OBAMA: \n",
      " [('every', 3), ('for', 3), ('and', 2), ('today', 1), ('day,', 1), ('i’m', 1), ('grateful', 1), ('imperfect', 1), ('photograph,', 1), ('incomplete', 1)]\n",
      "**************************************************\n",
      "Most common words for MICHELLE OBAMA: \n",
      " [('to', 3), ('them', 2), ('rt', 1), ('@barackobama:', 1), ('the', 1), ('@uswnt', 1), ('is', 1), ('something', 1), ('smile', 1), ('about.', 1)]\n",
      "**************************************************\n",
      "Most common words for MICHELLE OBAMA: \n",
      " [('to', 2), ('i', 2), ('my', 1), ('girlfriends', 1), ('are', 1), ('always', 1), ('there', 1), ('lift', 1), ('me', 1), ('up', 1)]\n",
      "**************************************************\n",
      "Most common words for MICHELLE OBAMA: \n",
      " [('there’s', 1), ('something', 1), ('unexplainable', 1), ('that', 1), ('happens', 1), ('on', 1), ('@sesamestreet,', 1), ('some', 1), ('unique', 1), ('alchemy', 1)]\n",
      "**************************************************\n",
      "Most common words for MICHELLE OBAMA: \n",
      " [('from', 1), ('an', 1), ('early', 1), ('age,', 1), ('my', 1), ('mom', 1), ('saw', 1), ('that', 1), ('i', 1), ('had', 1)]\n",
      "**************************************************\n",
      "Most common words for MICHELLE OBAMA: \n",
      " [('today', 1), ('i', 1), ('joined', 1), ('students', 1), ('@spelmancollege,', 1), ('@cau,', 1), ('and', 1), ('@morehouse', 1), ('to', 1), ('talk', 1)]\n",
      "**************************************************\n",
      "Most common words for MICHELLE OBAMA: \n",
      " [('rt', 1), ('@bettermakeroom:', 1), ('on', 1), ('may', 1), ('1,', 1), ('we', 1), ('celebrated', 1), ('#collegesigningday', 1), ('with', 1), ('@uofcalifornia', 1)]\n",
      "**************************************************\n",
      "Most common words for MICHELLE OBAMA: \n",
      " [('and', 3), ('congratulations,', 1), ('meghan', 1), ('harry!', 1), ('barack', 1), ('i', 1), ('are', 1), ('so', 1), ('thrilled', 1), ('for', 1)]\n",
      "**************************************************\n",
      "Most common words for MICHELLE OBAMA: \n",
      " [('rt', 1), ('@compton_college:', 1), ('when', 1), ('in', 1), ('los', 1), ('angeles,', 1), ('of', 1), ('course', 1), ('you', 1), ('represent', 1)]\n",
      "**************************************************\n",
      "Most common words for MICHELLE OBAMA: \n",
      " [('rt', 1), ('@talaashe:', 1), ('such', 1), ('an', 1), ('honor', 1), ('to', 1), ('be', 1), ('a', 1), ('part', 1), ('of', 1)]\n",
      "**************************************************\n",
      "Most common words for MICHELLE OBAMA: \n",
      " [('to', 3), ('their', 2), ('rt', 1), ('@300collegeclub:', 1), ('our', 1), ('spartans', 1), ('are', 1), ('going', 1), ('college!!!', 1), ('everyone', 1)]\n",
      "**************************************************\n",
      "Most common words for MICHELLE OBAMA: \n",
      " [('at', 2), ('rt', 1), ('@stocktonscholar:', 1), ('#stocktonscholars', 1), ('rolling', 1), ('deep', 1), ('the', 1), ('@bettermakeroom', 1), ('college', 1), ('signing', 1)]\n",
      "**************************************************\n",
      "Most common words for MICHELLE OBAMA: \n",
      " [('rt', 1), ('@rcoe:', 1), ('it’s', 1), ('here!', 1), ('#collegesigningday', 1), ('@ucla', 1), ('w/@michelleobama.', 1), ('kiayra', 1), ('@rusdlink', 1), ('@jwnorthhs', 1)]\n",
      "**************************************************\n",
      "Most common words for MICHELLE OBAMA: \n",
      " [('i', 2), ('am', 1), ('so', 1), ('proud', 1), ('of', 1), ('each', 1), ('and', 1), ('every', 1), ('student', 1), ('out', 1)]\n",
      "**************************************************\n",
      "Most common words for MICHELLE OBAMA: \n",
      " [('rt', 1), ('@johnlegend:', 1), ('my', 1), ('academic', 1), ('career', 1), ('at', 1), ('upenn', 1), ('hugely', 1), ('shaped', 1), ('the', 1)]\n",
      "**************************************************\n",
      "Most common words for MICHELLE OBAMA: \n",
      " [('to', 2), ('rt', 1), ('@leamichele:', 1), ('joining', 1), ('forces', 1), ('with', 1), ('the', 1), ('amazing', 1), ('@michelleobama', 1), ('today', 1)]\n",
      "**************************************************\n",
      "Most common words for MICHELLE OBAMA: \n",
      " [('rt', 1), ('@barackobama:', 1), ('happy', 1), ('#collegesigningday,', 1), ('everybody!', 1), (\"i'm\", 1), ('proud', 1), ('of', 1), ('every', 1), ('student', 1)]\n",
      "**************************************************\n",
      "\n",
      "Most common words for WARREN BUFFET : \n",
      " [('and', 2), ('@billgates', 1), ('25', 1), ('years', 1), ('of', 1), ('learning', 1), ('fun', 1), ('more', 1), ('to', 1), ('come.', 1)]\n",
      "**************************************************\n",
      "Most common words for WARREN BUFFET : \n",
      " [('on', 2), ('join', 1), ('me', 1), ('saturday', 1), ('at', 1), ('10a', 1), ('et', 1), ('for', 1), ('the', 1), ('first', 1)]\n",
      "**************************************************\n",
      "Most common words for WARREN BUFFET : \n",
      " [('the', 2), ('better', 1), ('than', 1), ('raising', 1), ('minimum', 1), ('wage,', 1), (\"let's\", 1), ('help', 1), ('americans', 1), ('with', 1)]\n",
      "**************************************************\n",
      "Most common words for WARREN BUFFET : \n",
      " [('a', 3), ('mary', 1), ('rhinehart,', 1), ('berkshire', 1), ('ceo,', 1), ('is', 1), ('successfully', 1), ('running', 1), ('$2.5b', 1), ('company', 1)]\n",
      "**************************************************\n",
      "Most common words for WARREN BUFFET : \n",
      " [('two', 1), ('personal', 1), ('investments', 1), ('and', 1), ('what', 1), ('you', 1), ('can', 1), ('learn', 1), ('from', 1), ('them:', 1)]\n",
      "**************************************************\n",
      "Most common words for WARREN BUFFET : \n",
      " [('not', 1), ('even', 1), ('the', 1), ('oracle', 1), ('knows', 1), ('what', 1), ('will', 1), ('happen', 1), ('tonight.', 1), ('#waltsuccessor', 1)]\n",
      "**************************************************\n",
      "Most common words for WARREN BUFFET : \n",
      " [('to', 2), ('hello', 1), ('@hillaryclinton!', 1), ('happy', 1), ('welcome', 1), ('one', 1), ('of', 1), ('my', 1), ('favorite', 1), ('women', 1)]\n",
      "**************************************************\n",
      "Most common words for WARREN BUFFET : \n",
      " [('read', 1), ('my', 1), ('new', 1), ('essay', 1), ('on', 1), ('why', 1), ('women', 1), ('are', 1), ('key', 1), ('to', 1)]\n",
      "**************************************************\n",
      "Most common words for WARREN BUFFET : \n",
      " [('warren', 1), ('is', 1), ('in', 1), ('the', 1), ('house.', 1)]\n",
      "**************************************************\n",
      "\n",
      "Most common words for PORSCHE : \n",
      " [('to', 2), ('@robertoaaguilar', 1), ('we', 1), ('are', 1), ('very', 1), ('sorry', 1), ('hear', 1), ('about', 1), ('your', 1), ('porsche', 1)]\n",
      "**************************************************\n",
      "Most common words for PORSCHE : \n",
      " [('@dtmain2', 1), ('@gmc', 1), ('thank', 1), ('you', 1), ('for', 1), ('reaching', 1), ('out', 1), ('to', 1), ('porsche', 1), ('cars', 1)]\n",
      "**************************************************\n",
      "Most common words for PORSCHE : \n",
      " [('you', 2), ('@_cozychris', 1), ('thank', 1), ('for', 1), ('your', 1), ('inquiry.', 1), ('can', 1), ('arrange', 1), ('a', 1), ('visit', 1)]\n",
      "**************************************************\n",
      "Most common words for PORSCHE : \n",
      " [('the', 2), ('@chrismolloy33', 1), ('we', 1), ('appreciate', 1), ('your', 1), ('interest', 1), ('in', 1), ('all-new', 1), ('porsche', 1), ('taycan!', 1)]\n",
      "**************************************************\n",
      "Most common words for PORSCHE : \n",
      " [('@chrismolloy33', 1), ('thank', 1), ('you', 1), ('for', 1), ('your', 1), ('inquiry.', 1), ('because', 1), ('the', 1), ('taycan', 1), ('model', 1)]\n",
      "**************************************************\n",
      "Most common words for PORSCHE : \n",
      " [('to', 2), ('@maxes_mb', 1), ('we', 1), ('regret', 1), ('learn', 1), ('of', 1), ('the', 1), ('circumstances', 1), ('that', 1), ('prompted', 1)]\n",
      "**************************************************\n",
      "Most common words for PORSCHE : \n",
      " [('@howdoyoudokenn', 1), ('thank', 1), ('you', 1), ('for', 1), ('contacting', 1), ('porsche', 1), ('cars', 1), ('north', 1), ('america.', 1), ('please', 1)]\n",
      "**************************************************\n",
      "Most common words for PORSCHE : \n",
      " [('you', 2), ('for', 2), ('@hiimdolphy', 1), ('thank', 1), ('your', 1), ('interest', 1), ('in', 1), ('working', 1), ('porsche.', 1), ('can', 1)]\n",
      "**************************************************\n",
      "Most common words for PORSCHE : \n",
      " [('we', 2), ('of', 2), ('@toddmr', 1), ('@pecatl', 1), ('sincerely', 1), ('regret', 1), ('to', 1), ('learn', 1), ('your', 1), ('dissatisfaction.', 1)]\n",
      "**************************************************\n",
      "Most common words for PORSCHE : \n",
      " [('the', 2), ('@mwbathurst', 1), ('@firsttake', 1), ('we', 1), ('are', 1), ('delighted', 1), ('to', 1), ('learn', 1), ('of', 1), ('your', 1)]\n",
      "**************************************************\n",
      "Most common words for PORSCHE : \n",
      " [('you', 2), ('@therealsunne', 1), ('@porschenewsroom', 1), ('thank', 1), ('for', 1), ('reaching', 1), ('out.', 1), ('upon', 1), ('review', 1), ('of', 1)]\n",
      "**************************************************\n",
      "Most common words for PORSCHE : \n",
      " [('@jingkrub', 1), ('@porschecanada', 1), ('@consumerprobc', 1), ('@bbb_bc', 1), ('we', 1), ('sincerely', 1), ('regret', 1), ('to', 1), ('learn', 1), ('of', 1)]\n",
      "**************************************************\n",
      "Most common words for PORSCHE : \n",
      " [('we', 2), ('you', 2), ('@alexastauske', 1), ('regret', 1), ('to', 1), ('learn', 1), ('of', 1), ('this', 1), ('inconvenience.', 1), ('if', 1)]\n",
      "**************************************************\n",
      "Most common words for PORSCHE : \n",
      " [('@natekeag', 1), ('we', 1), ('appreciate', 1), ('you', 1), ('reaching', 1), ('out', 1), ('but', 1), ('sincerely', 1), ('regret', 1), ('to', 1)]\n",
      "**************************************************\n",
      "Most common words for PORSCHE : \n",
      " [('the', 2), ('@thepixelgirl', 1), ('we', 1), ('sincerely', 1), ('regret', 1), ('to', 1), ('learn', 1), ('of', 1), ('frustration', 1), ('that', 1)]\n",
      "**************************************************\n",
      "Most common words for PORSCHE : \n",
      " [('you', 2), ('for', 2), ('@rslozworth', 1), ('thank', 1), ('contacting', 1), ('porsche', 1), ('cars', 1), ('north', 1), ('america!', 1), ('we', 1)]\n",
      "**************************************************\n",
      "Most common words for PORSCHE : \n",
      " [('the', 2), ('and', 1), ('again!', 1), ('porsche', 1), ('911', 1), ('gt2', 1), ('rs', 1), ('has', 1), ('set', 1), ('a', 1)]\n",
      "**************************************************\n",
      "Most common words for PORSCHE : \n",
      " [('to', 2), ('@hotzvideos', 1), ('thank', 1), ('you', 1), ('for', 1), ('reaching', 1), ('out', 1), ('porsche', 1), ('cars', 1), ('north', 1)]\n",
      "**************************************************\n",
      "Most common words for PORSCHE : \n",
      " [('to', 2), ('@acuratlgtlm', 1), ('thank', 1), ('you', 1), ('for', 1), ('bringing', 1), ('this', 1), ('matter', 1), ('our', 1), ('attention.', 1)]\n",
      "**************************************************\n",
      "Most common words for PORSCHE : \n",
      " [('your', 2), ('@hananalaali', 1), ('thank', 1), ('you', 1), ('for', 1), ('reply.', 1), ('according', 1), ('to', 1), ('the', 1), ('information', 1)]\n",
      "**************************************************\n",
      "\n"
     ]
    }
   ],
   "source": [
    "#Most Common words - Michelle Obama\n",
    "\n",
    "from collections import Counter \n",
    "for t in michelle_tweets:\n",
    "    words = t.text.lower().split()\n",
    "    c=Counter(words)\n",
    "    #print(\"Word Frequency - MICHELLE OBAMA : \\n\",c) - I am commenting this as I am not able to retrieve the following results in Github.\n",
    "    #Please uncomment this to get the word frequency.\n",
    "    print(\"Most common words for MICHELLE OBAMA: \\n\",c.most_common(10))\n",
    "    print('**************************************************')\n",
    "print()\n",
    "\n",
    "#Most Common words - Warren Buffet\n",
    "    \n",
    "for wb in warren_tweets:\n",
    "    words = wb.text.lower().split()\n",
    "    c=Counter(words)\n",
    "    #print(\"Word Frequency - WARREN BUFFET : \\n\",c) - I am commenting this as I am not able to retrieve the following results in Github.\n",
    "    #Please uncomment this to get the word frequency.\n",
    "    print(\"Most common words for WARREN BUFFET : \\n\",c.most_common(10))\n",
    "    print('**************************************************')\n",
    "print()\n",
    "    \n",
    "#Most Common words - Porsche\n",
    "    \n",
    "for pt in porsche_tweets:\n",
    "    words = pt.text.lower().split()\n",
    "    c=Counter(words)\n",
    "    #print(\"Word Frequency - PORSCHE : \\n\",c) - I am commenting this as I am not able to retrieve the following results in Github.\n",
    "    #Please uncomment this to get the word frequency.\n",
    "    print(\"Most common words for PORSCHE : \\n\",c.most_common(10))\n",
    "    print('**************************************************')\n",
    "print()\n",
    "\n"
   ]
  },
  {
   "cell_type": "markdown",
   "metadata": {},
   "source": [
    "## Sentiment Analysis:"
   ]
  },
  {
   "cell_type": "code",
   "execution_count": 13,
   "metadata": {},
   "outputs": [
    {
     "name": "stderr",
     "output_type": "stream",
     "text": [
      "[nltk_data] Downloading package vader_lexicon to\n",
      "[nltk_data]     C:\\Users\\s534665\\AppData\\Roaming\\nltk_data...\n",
      "[nltk_data]   Package vader_lexicon is already up-to-date!\n"
     ]
    },
    {
     "name": "stdout",
     "output_type": "stream",
     "text": [
      "Michelle Obama -  {'neg': 0.0, 'neu': 1.0, 'pos': 0.0, 'compound': 0.0}\n",
      "Michelle Obama -  {'neg': 0.0, 'neu': 0.864, 'pos': 0.136, 'compound': 0.5106}\n",
      "Michelle Obama -  {'neg': 0.0, 'neu': 0.371, 'pos': 0.629, 'compound': 0.8805}\n",
      "Michelle Obama -  {'neg': 0.099, 'neu': 0.773, 'pos': 0.129, 'compound': 0.1779}\n",
      "Michelle Obama -  {'neg': 0.0, 'neu': 0.644, 'pos': 0.356, 'compound': 0.9136}\n",
      "Michelle Obama -  {'neg': 0.0, 'neu': 0.942, 'pos': 0.058, 'compound': 0.0772}\n",
      "Michelle Obama -  {'neg': 0.0, 'neu': 0.833, 'pos': 0.167, 'compound': 0.4588}\n",
      "Michelle Obama -  {'neg': 0.0, 'neu': 0.902, 'pos': 0.098, 'compound': 0.3612}\n",
      "Michelle Obama -  {'neg': 0.0, 'neu': 0.708, 'pos': 0.292, 'compound': 0.7351}\n",
      "Michelle Obama -  {'neg': 0.0, 'neu': 0.821, 'pos': 0.179, 'compound': 0.5719}\n",
      "Michelle Obama -  {'neg': 0.0, 'neu': 0.694, 'pos': 0.306, 'compound': 0.8374}\n",
      "Michelle Obama -  {'neg': 0.0, 'neu': 1.0, 'pos': 0.0, 'compound': 0.0}\n",
      "Michelle Obama -  {'neg': 0.0, 'neu': 0.722, 'pos': 0.278, 'compound': 0.8271}\n",
      "Michelle Obama -  {'neg': 0.0, 'neu': 1.0, 'pos': 0.0, 'compound': 0.0}\n",
      "Michelle Obama -  {'neg': 0.0, 'neu': 0.872, 'pos': 0.128, 'compound': 0.3612}\n",
      "Michelle Obama -  {'neg': 0.0, 'neu': 1.0, 'pos': 0.0, 'compound': 0.0}\n",
      "Michelle Obama -  {'neg': 0.057, 'neu': 0.653, 'pos': 0.29, 'compound': 0.7713}\n",
      "Michelle Obama -  {'neg': 0.0, 'neu': 0.782, 'pos': 0.218, 'compound': 0.6486}\n",
      "Michelle Obama -  {'neg': 0.0, 'neu': 0.582, 'pos': 0.418, 'compound': 0.8885}\n",
      "Michelle Obama -  {'neg': 0.0, 'neu': 0.728, 'pos': 0.272, 'compound': 0.7959}\n",
      "\n",
      "Warren Buffet -  {'neg': 0.0, 'neu': 0.678, 'pos': 0.322, 'compound': 0.7322}\n",
      "Warren Buffet -  {'neg': 0.0, 'neu': 0.872, 'pos': 0.128, 'compound': 0.296}\n",
      "Warren Buffet -  {'neg': 0.0, 'neu': 0.661, 'pos': 0.339, 'compound': 0.802}\n",
      "Warren Buffet -  {'neg': 0.0, 'neu': 0.802, 'pos': 0.198, 'compound': 0.4939}\n",
      "Warren Buffet -  {'neg': 0.0, 'neu': 1.0, 'pos': 0.0, 'compound': 0.0}\n",
      "Warren Buffet -  {'neg': 0.0, 'neu': 1.0, 'pos': 0.0, 'compound': 0.0}\n",
      "Warren Buffet -  {'neg': 0.0, 'neu': 0.565, 'pos': 0.435, 'compound': 0.8748}\n",
      "Warren Buffet -  {'neg': 0.0, 'neu': 1.0, 'pos': 0.0, 'compound': 0.0}\n",
      "Warren Buffet -  {'neg': 0.0, 'neu': 1.0, 'pos': 0.0, 'compound': 0.0}\n",
      "\n",
      "Porsche -  {'neg': 0.069, 'neu': 0.823, 'pos': 0.108, 'compound': 0.228}\n",
      "Porsche -  {'neg': 0.0, 'neu': 0.742, 'pos': 0.258, 'compound': 0.6808}\n",
      "Porsche -  {'neg': 0.0, 'neu': 0.878, 'pos': 0.122, 'compound': 0.3612}\n",
      "Porsche -  {'neg': 0.0, 'neu': 0.715, 'pos': 0.285, 'compound': 0.7177}\n",
      "Porsche -  {'neg': 0.0, 'neu': 0.872, 'pos': 0.128, 'compound': 0.3612}\n",
      "Porsche -  {'neg': 0.121, 'neu': 0.779, 'pos': 0.1, 'compound': -0.128}\n",
      "Porsche -  {'neg': 0.0, 'neu': 0.78, 'pos': 0.22, 'compound': 0.5859}\n",
      "Porsche -  {'neg': 0.0, 'neu': 0.756, 'pos': 0.244, 'compound': 0.6705}\n",
      "Porsche -  {'neg': 0.211, 'neu': 0.599, 'pos': 0.19, 'compound': -0.1531}\n",
      "Porsche -  {'neg': 0.149, 'neu': 0.684, 'pos': 0.167, 'compound': -0.1406}\n",
      "Porsche -  {'neg': 0.0, 'neu': 0.798, 'pos': 0.202, 'compound': 0.5106}\n",
      "Porsche -  {'neg': 0.271, 'neu': 0.588, 'pos': 0.14, 'compound': -0.4404}\n",
      "Porsche -  {'neg': 0.314, 'neu': 0.686, 'pos': 0.0, 'compound': -0.7773}\n",
      "Porsche -  {'neg': 0.127, 'neu': 0.516, 'pos': 0.356, 'compound': 0.6858}\n",
      "Porsche -  {'neg': 0.236, 'neu': 0.64, 'pos': 0.124, 'compound': -0.4215}\n",
      "Porsche -  {'neg': 0.0, 'neu': 0.872, 'pos': 0.128, 'compound': 0.4199}\n",
      "Porsche -  {'neg': 0.0, 'neu': 1.0, 'pos': 0.0, 'compound': 0.0}\n",
      "Porsche -  {'neg': 0.116, 'neu': 0.705, 'pos': 0.178, 'compound': 0.128}\n",
      "Porsche -  {'neg': 0.0, 'neu': 0.832, 'pos': 0.168, 'compound': 0.3869}\n",
      "Porsche -  {'neg': 0.0, 'neu': 0.872, 'pos': 0.128, 'compound': 0.3612}\n",
      "\n"
     ]
    }
   ],
   "source": [
    "from nltk_helpers import get_sentiments\n",
    "    \n",
    "#print(get_sentiments(michelle_tweets[0].text))\n",
    "\n",
    "for tweet in michelle_tweets:\n",
    "    print(\"Michelle Obama - \",get_sentiments(tweet.text))\n",
    "print()\n",
    "\n",
    "for tweet in warren_tweets:\n",
    "    print(\"Warren Buffet - \",get_sentiments(tweet.text))\n",
    "print()\n",
    "\n",
    "for tweet in porsche_tweets:\n",
    "    print(\"Porsche - \",get_sentiments(tweet.text))\n",
    "print()\n",
    "    "
   ]
  },
  {
   "cell_type": "markdown",
   "metadata": {},
   "source": [
    "## Plotting Sentimental Analysis using 3D:"
   ]
  },
  {
   "cell_type": "code",
   "execution_count": 14,
   "metadata": {},
   "outputs": [
    {
     "data": {
      "image/png": "[encoded data removed]",
      "text/plain": [
       "<Figure size 432x288 with 1 Axes>"
      ]
     },
     "metadata": {
      "needs_background": "light"
     },
     "output_type": "display_data"
    }
   ],
   "source": [
    "from mpl_toolkits.mplot3d import Axes3D\n",
    "import matplotlib.pyplot as plt\n",
    "\n",
    "#build our figure\n",
    "fig = plt.figure()\n",
    "#build axes\n",
    "ax=fig.add_subplot(111,projection='3d')\n",
    "\n",
    "sentiments = [get_sentiments(tweet.text) for tweet in michelle_tweets]\n",
    "\n",
    "#build xs,ys,zs\n",
    "xs=[]\n",
    "for sent in sentiments:\n",
    "    xs.append(sent['neg'])\n",
    "    \n",
    "ys=[sent['neu'] for sent in sentiments]\n",
    "\n",
    "zs = list(map(lambda x:x['pos'],sentiments))\n",
    "\n",
    "ax.scatter(xs,ys,zs)\n",
    "\n",
    "#add another set of data - Warren Buffet\n",
    "\n",
    "    \n",
    "from nltk_helpers import split_sentiments\n",
    "\n",
    "buffX,buffY,buffZ = split_sentiments([get_sentiments(tweet.text) for tweet in warren_tweets])\n",
    "ax.scatter(buffX,buffY,buffZ, color='r',marker='^')\n",
    "#ax.scatter(arbyX,arbyY,arbyZ)\n",
    "\n",
    "#ax.scatter(xs,ys,zs)\n",
    "ax.set_xlabel('Negative')\n",
    "ax.set_ylabel('neutral')\n",
    "ax.set_zlabel('postive')\n",
    "\n",
    "#add another set of data - Porsche\n",
    "\n",
    "\n",
    "    \n",
    "from nltk_helpers import split_sentiments\n",
    "\n",
    "porX,porY,porZ = split_sentiments([get_sentiments(tweet.text) for tweet in porsche_tweets])\n",
    "ax.scatter(porX,porY,porZ, color='g',marker='d')\n",
    "#ax.scatter(arbyX,arbyY,arbyZ)\n",
    "\n",
    "#ax.scatter(xs,ys,zs)\n",
    "ax.set_xlabel('Negative')\n",
    "ax.set_ylabel('neutral')\n",
    "ax.set_zlabel('postive')\n",
    "\n",
    "plt.show()\n",
    "\n"
   ]
  },
  {
   "cell_type": "markdown",
   "metadata": {},
   "source": [
    "## Plotting Sentimental Analysis using 2D:"
   ]
  },
  {
   "cell_type": "code",
   "execution_count": 15,
   "metadata": {},
   "outputs": [
    {
     "data": {
      "image/png": "[encoded data removed]",
      "text/plain": [
       "<Figure size 432x288 with 1 Axes>"
      ]
     },
     "metadata": {
      "needs_background": "light"
     },
     "output_type": "display_data"
    }
   ],
   "source": [
    "plt.scatter(xs,zs,label='Michelle Obama')\n",
    "plt.scatter(buffX,buffZ,color='r',marker='^', label='Warren Buffet')\n",
    "plt.scatter(porX,porZ,color='g',marker='d', label='Porsche')\n",
    "plt.xlabel('Negative')\n",
    "plt.ylabel('Positive')\n",
    "plt.title('Positive vs Negative Sentiments')\n",
    "plt.legend(loc='upper right',shadow='true')\n",
    "plt.show()"
   ]
  },
  {
   "cell_type": "markdown",
   "metadata": {},
   "source": [
    "## Conclusion"
   ]
  },
  {
   "cell_type": "markdown",
   "metadata": {},
   "source": [
    "This assignment helped me on how to mine data from twitter and load into pickle files. I have extracted information in various ways which helped me to perform analysis on each twitter account. I found the length of each tweet in every account and calculated the average length of tweet for each account. Plotting a bar graph for average length of tweet helps us to better understand the length of description used by each account to convey their message to others, from this graph we can see that minimum average length of tweet is found for Warren Buffet and maximum for Michelle Obama. I have calculated the lexical diversities for each account to find the usage of words or synonyms being used to tweet as different people use different wordings and also calculated the minimum lexical diversity to check who is using minimum lexical diversity. I have also explored about the devices being used to send tweets, by plotting a graph we can see that maximum number of tweets are been sent from Web client for Michelle and Warren, where as for Porsche it is from Facelift Cloud.I have calculated the minimum and maximum retweets counts for each account and plotted a graph to find maximum retweets.From graph we can understand that Warren Buffet has maximum retweet count.I found the frequency of words in each tweet for every account to understand which word has been repeated the most in every tweet.I have analysed the extent of sentiment being used in every tweet to check the postivity,negativity and neutrality scores. By plotting graphs we can understand that Michelle Obama has more positive score and Porsche comes next."
   ]
  },
  {
   "cell_type": "code",
   "execution_count": null,
   "metadata": {},
   "outputs": [],
   "source": []
  }
 ],
 "metadata": {
  "kernelspec": {
   "display_name": "Python 3",
   "language": "python",
   "name": "python3"
  },
  "language_info": {
   "codemirror_mode": {
    "name": "ipython",
    "version": 3
   },
   "file_extension": ".py",
   "mimetype": "text/x-python",
   "name": "python",
   "nbconvert_exporter": "python",
   "pygments_lexer": "ipython3",
   "version": "3.7.3"
  }
 },
 "nbformat": 4,
 "nbformat_minor": 2
}
